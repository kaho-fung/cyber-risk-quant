{
 "cells": [
  {
   "cell_type": "code",
   "execution_count": 15,
   "metadata": {},
   "outputs": [],
   "source": [
    "import scipy.stats as stats\n",
    "import numpy as np\n",
    "from joblib import Parallel, delayed\n",
    "import multiprocessing\n",
    "import random"
   ]
  },
  {
   "cell_type": "code",
   "execution_count": 16,
   "metadata": {},
   "outputs": [],
   "source": [
    "random.seed(42)"
   ]
  },
  {
   "cell_type": "code",
   "execution_count": 17,
   "metadata": {},
   "outputs": [],
   "source": [
    "# Base Distribution Class\n",
    "class Distribution:\n",
    "    def __init__(self, *params):\n",
    "        self.params = params\n",
    "        \n",
    "    def rvs(self, size=1):\n",
    "        raise NotImplementedError(\"Subclasses should implement this.\")"
   ]
  },
  {
   "cell_type": "code",
   "execution_count": 18,
   "metadata": {},
   "outputs": [],
   "source": [
    "# PERT Distribution Class\n",
    "class PERTDistribution(Distribution):\n",
    "    def __init__(self, min, ml, max, confidence=2.0, skewness=0):\n",
    "        super().__init__(min, ml, max, confidence, skewness)\n",
    "        self.min = min\n",
    "        self.ml = ml\n",
    "        self.max = max\n",
    "        self.confidence = confidence\n",
    "        self.skewness = skewness\n",
    "        self._init_dist()\n",
    "        \n",
    "    def _init_dist(self):\n",
    "        base_alpha = (4 * (self.ml - self.min) + (self.max - self.min)) / (self.max - self.min)\n",
    "        base_beta = (4 * (self.max - self.ml) + (self.max - self.min)) / (self.max - self.min)\n",
    "        alpha = base_alpha * (1 - self.skewness) * self.confidence\n",
    "        beta = base_beta * (1 + self.skewness) * self.confidence\n",
    "        self.dist = stats.beta(alpha, beta, loc=self.min, scale=self.max - self.min)\n",
    "        \n",
    "    def rvs(self):\n",
    "        return self.dist.rvs()"
   ]
  },
  {
   "cell_type": "code",
   "execution_count": 19,
   "metadata": {},
   "outputs": [],
   "source": [
    "# Lognormal Distribution Class\n",
    "class LognormDistribution(Distribution):\n",
    "    def __init__(self, mu, sigma, scale=1):\n",
    "        super().__init__(mu, sigma, scale)\n",
    "        self.mu = mu\n",
    "        self.sigma = sigma\n",
    "        self.scale = scale\n",
    "        self._initialize_distribution()\n",
    "        \n",
    "    def _initialize_distribution(self):\n",
    "        self.dist = stats.lognorm(sigma=self.sigma, scale=np.exp(self.mu))\n",
    "        \n",
    "    def rvs(self):\n",
    "        return self.dist.rvs()"
   ]
  },
  {
   "cell_type": "code",
   "execution_count": 20,
   "metadata": {},
   "outputs": [],
   "source": [
    "# Element Class\n",
    "class Element:\n",
    "    def __init__(self, distribution, result_set=None):\n",
    "        self.distribution = distribution\n",
    "        self.result_set = result_set\n",
    "        \n",
    "    def fetchvalue(self):\n",
    "        return self.distribution.rvs() if self.result_set is None else random.choice(self.result_set)\n",
    "    \n",
    "    def result(self):\n",
    "        return self.result_set"
   ]
  },
  {
   "cell_type": "code",
   "execution_count": 21,
   "metadata": {},
   "outputs": [],
   "source": [
    "class Entity(Element):\n",
    "    def __init__(self, elementLeft, elementRight):\n",
    "        self.elementLeft = elementLeft\n",
    "        self.elementRight = elementRight\n",
    "    \n",
    "    def _simulate_operation(self, operation, chunk_size):\n",
    "        result = []\n",
    "        for _ in range(chunk_size):\n",
    "            val_left = self.elementLeft.fetchvalue()\n",
    "            val_right = self.elementRight.fetchvalue()\n",
    "            if operation == \"multiply\":\n",
    "                result.append(val_left * val_right)\n",
    "            elif operation == \"binary\":\n",
    "                result.append(1 if val_left > val_right else 0)\n",
    "            elif operation == \"add\":\n",
    "                result.append(val_left + val_right)\n",
    "        return result\n",
    "\n",
    "    def simulate(self, operation=\"multiply\", size=50000):\n",
    "        num_cores = multiprocessing.cpu_count()\n",
    "        chunk_size = size // num_cores\n",
    "\n",
    "        # Run the simulation in parallel, processing each chunk independently\n",
    "        results = Parallel(n_jobs=num_cores)(\n",
    "            delayed(self._simulate_operation)(operation, chunk_size) for _ in range(num_cores)\n",
    "        )\n",
    "\n",
    "        # Flatten the list of results\n",
    "        result = [item for sublist in results for item in sublist]\n",
    "        \n",
    "        # Handle any remainder if size is not exactly divisible by num_cores\n",
    "        remainder = size % num_cores\n",
    "        if remainder:\n",
    "            result.extend(self._simulate_operation(operation, remainder))\n",
    "\n",
    "        super().__init__(distribution=None, result_set=result)"
   ]
  },
  {
   "cell_type": "code",
   "execution_count": 22,
   "metadata": {},
   "outputs": [
    {
     "name": "stdout",
     "output_type": "stream",
     "text": [
      "8\n"
     ]
    }
   ],
   "source": [
    "cf = Element(PERTDistribution(min=0,ml=10,max=100))\n",
    "poa = Element(PERTDistribution(min=0,ml=0.3,max=0.5))\n",
    "tef = Entity(cf, poa)\n",
    "tef.simulate()"
   ]
  },
  {
   "cell_type": "code",
   "execution_count": 23,
   "metadata": {},
   "outputs": [
    {
     "name": "stdout",
     "output_type": "stream",
     "text": [
      "8\n"
     ]
    }
   ],
   "source": [
    "tcap = Element(PERTDistribution(min=0.8,ml=0.9,max=0.99))\n",
    "rs = Element(PERTDistribution(min=0.75,ml=0.8,max=0.9))\n",
    "vuln = Entity(tcap, rs)\n",
    "vuln.simulate(operation=\"binary\")"
   ]
  },
  {
   "cell_type": "code",
   "execution_count": 24,
   "metadata": {},
   "outputs": [
    {
     "name": "stdout",
     "output_type": "stream",
     "text": [
      "8\n"
     ]
    }
   ],
   "source": [
    "slef = Element(PERTDistribution(min=100,ml=3000,max=50000))\n",
    "slm = Element(PERTDistribution(min=0,ml=0,max=1))\n",
    "sl = Entity(slef, slm)\n",
    "sl.simulate()"
   ]
  },
  {
   "cell_type": "code",
   "execution_count": 25,
   "metadata": {},
   "outputs": [
    {
     "name": "stdout",
     "output_type": "stream",
     "text": [
      "8\n"
     ]
    }
   ],
   "source": [
    "plm = Element(PERTDistribution(min=20,ml=30,max=50))\n",
    "lm = Entity(plm, sl)\n",
    "lm.simulate(operation=\"add\")"
   ]
  },
  {
   "cell_type": "code",
   "execution_count": 26,
   "metadata": {},
   "outputs": [
    {
     "name": "stdout",
     "output_type": "stream",
     "text": [
      "8\n"
     ]
    }
   ],
   "source": [
    "lef = Entity(tef, vuln)\n",
    "lef.simulate()"
   ]
  },
  {
   "cell_type": "code",
   "execution_count": 27,
   "metadata": {},
   "outputs": [
    {
     "name": "stdout",
     "output_type": "stream",
     "text": [
      "8\n"
     ]
    }
   ],
   "source": [
    "risk = Entity(lef,lm)\n",
    "risk.simulate()"
   ]
  },
  {
   "cell_type": "code",
   "execution_count": 28,
   "metadata": {},
   "outputs": [
    {
     "data": {
      "image/png": "[encoded data removed]",
      "text/plain": [
       "<Figure size 800x600 with 1 Axes>"
      ]
     },
     "metadata": {},
     "output_type": "display_data"
    }
   ],
   "source": [
    "import matplotlib.pyplot as plt\n",
    "\n",
    "x = np.array(risk.result())\n",
    "# Sort the data\n",
    "sorted_losses = np.sort(x)\n",
    "\n",
    "# Calculate exceedance probabilities\n",
    "n = len(sorted_losses)\n",
    "exceedance_probs = (n - np.arange(n)) / n\n",
    "\n",
    "# Plot the loss exceedance curve\n",
    "plt.figure(figsize=(8, 6))\n",
    "plt.plot(sorted_losses, exceedance_probs, marker='o', linestyle='-', color='b')\n",
    "plt.xlabel('Loss')\n",
    "plt.ylabel('Exceedance Probability')\n",
    "plt.title('Loss Exceedance Curve')\n",
    "plt.grid(True)\n",
    "plt.show()"
   ]
  }
 ],
 "metadata": {
  "kernelspec": {
   "display_name": "Python 3",
   "language": "python",
   "name": "python3"
  },
  "language_info": {
   "codemirror_mode": {
    "name": "ipython",
    "version": 3
   },
   "file_extension": ".py",
   "mimetype": "text/x-python",
   "name": "python",
   "nbconvert_exporter": "python",
   "pygments_lexer": "ipython3",
   "version": "3.11.4"
  }
 },
 "nbformat": 4,
 "nbformat_minor": 2
}
