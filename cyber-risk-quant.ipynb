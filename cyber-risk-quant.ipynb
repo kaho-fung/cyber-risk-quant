{
 "cells": [
  {
   "cell_type": "code",
   "execution_count": 61,
   "metadata": {},
   "outputs": [],
   "source": [
    "import scipy.stats as stats\n",
    "import random"
   ]
  },
  {
   "cell_type": "code",
   "execution_count": 62,
   "metadata": {},
   "outputs": [],
   "source": [
    "random.seed(42)"
   ]
  },
  {
   "cell_type": "code",
   "execution_count": 63,
   "metadata": {},
   "outputs": [],
   "source": [
    "class Element:\n",
    "    def __init__(self, min=None, ml=None, max=None, resultSet=None, confidence=2.0, skewness=0):\n",
    "        # initialising a raw element\n",
    "        self.min = min\n",
    "        self.ml = ml\n",
    "        self.max = max\n",
    "        self.confidence = confidence  # 0.5 for low, 2 for medium, 5 for high\n",
    "        self.skewness = skewness\n",
    "        \n",
    "        # initialising a element created by computation\n",
    "        self.resultSet = resultSet\n",
    "\n",
    "        # populate distribution\n",
    "        if min is not None and ml is not None and max is not None:\n",
    "            # Calculate alpha and beta based on skewness\n",
    "            base_alpha = (4 * (self.ml - self.min) + (self.max - self.min)) / (self.max - self.min)\n",
    "            base_beta = (4 * (self.max - self.ml) + (self.max - self.min)) / (self.max - self.min)\n",
    "\n",
    "            # Adjust alpha and beta for skewness\n",
    "            alpha = base_alpha * (1 - self.skewness)\n",
    "            beta = base_beta * (1 + self.skewness)\n",
    "\n",
    "            # Adjust alpha and beta for confidence\n",
    "            alpha *= self.confidence\n",
    "            beta *= self.confidence\n",
    "\n",
    "            # Create a PERT distribution\n",
    "            self.pert_dist = stats.beta(alpha, beta, loc=self.min, scale=self.max - self.min)\n",
    "        \n",
    "    def fetchValue(self):\n",
    "        # Sample a value from the PERT distribution\n",
    "        return self.pert_dist.rvs(random_state=None) if self.resultSet is None else random.choice(self.resultSet)\n",
    "    \n",
    "    def result(self):\n",
    "        return self.resultSet"
   ]
  },
  {
   "cell_type": "code",
   "execution_count": 64,
   "metadata": {},
   "outputs": [],
   "source": [
    "class Entity(Element):\n",
    "    def __init__(self, elementLeft, elementRight):\n",
    "        self.elementLeft = elementLeft\n",
    "        self.elementRight = elementRight\n",
    "    \n",
    "    def simulate(self, operation=\"multiply\", size=50000):\n",
    "        result = []\n",
    "        if operation == \"multiply\":\n",
    "            for i in range (0,size):\n",
    "                result.append(self.elementLeft.fetchValue() * self.elementRight.fetchValue())\n",
    "        elif operation == \"binary\":\n",
    "            for i in range (0,size):\n",
    "                result.append((1 if self.elementLeft.fetchValue() > self.elementRight.fetchValue() else 0))\n",
    "        elif operation == \"add\":\n",
    "            for i in range (0,size):\n",
    "                result.append(self.elementLeft.fetchValue() + self.elementRight.fetchValue())\n",
    "        super().__init__(resultSet=result)"
   ]
  },
  {
   "cell_type": "code",
   "execution_count": 65,
   "metadata": {},
   "outputs": [],
   "source": [
    "cf = Element(min=0,ml=10,max=100)\n",
    "poa = Element(min=0,ml=0.3,max=0.5)\n",
    "tef = Entity(cf, poa)\n",
    "tef.simulate()"
   ]
  },
  {
   "cell_type": "code",
   "execution_count": 66,
   "metadata": {},
   "outputs": [],
   "source": [
    "tcap = Element(min=0.8,ml=0.9,max=0.99)\n",
    "rs = Element(min=0.75,ml=0.8,max=0.9)\n",
    "vuln = Entity(tcap, rs)\n",
    "vuln.simulate(operation=\"binary\")"
   ]
  },
  {
   "cell_type": "code",
   "execution_count": 67,
   "metadata": {},
   "outputs": [],
   "source": [
    "slef = Element(min=30000,ml=500000,max=300000000)\n",
    "slm = Element(min=0,ml=0,max=1)\n",
    "sl = Entity(slef, slm)\n",
    "sl.simulate()"
   ]
  },
  {
   "cell_type": "code",
   "execution_count": 68,
   "metadata": {},
   "outputs": [],
   "source": [
    "plm = Element(min=300000,ml=1000000,max=600000000)\n",
    "lm = Entity(plm, sl)\n",
    "lm.simulate(operation=\"add\")"
   ]
  },
  {
   "cell_type": "code",
   "execution_count": 69,
   "metadata": {},
   "outputs": [],
   "source": [
    "lef = Entity(tef, vuln)\n",
    "lef.simulate()"
   ]
  },
  {
   "cell_type": "code",
   "execution_count": 70,
   "metadata": {},
   "outputs": [],
   "source": [
    "risk = Entity(lef,lm)\n",
    "risk.simulate()"
   ]
  },
  {
   "cell_type": "code",
   "execution_count": 71,
   "metadata": {},
   "outputs": [
    {
     "data": {
      "image/png": "[encoded data removed]",
      "text/plain": [
       "<Figure size 640x480 with 1 Axes>"
      ]
     },
     "metadata": {},
     "output_type": "display_data"
    }
   ],
   "source": [
    "data = risk.result()\n",
    "\n",
    "import matplotlib.pyplot as plt\n",
    "import numpy as np\n",
    "\n",
    "# Create the histogram\n",
    "plt.hist(data, bins=50, edgecolor='black')\n",
    "\n",
    "# Add titles and labels\n",
    "plt.title('Histogram of 50,000 Elements')\n",
    "plt.xlabel('Value')\n",
    "plt.ylabel('Frequency')\n",
    "\n",
    "plt.ticklabel_format(style='plain', axis='x')\n",
    "\n",
    "# Show the plot\n",
    "plt.show()"
   ]
  },
  {
   "cell_type": "code",
   "execution_count": 72,
   "metadata": {},
   "outputs": [
    {
     "data": {
      "text/plain": [
       "715863620.9014702"
      ]
     },
     "execution_count": 72,
     "metadata": {},
     "output_type": "execute_result"
    }
   ],
   "source": [
    "sum(risk.result()) / len(risk.result())"
   ]
  }
 ],
 "metadata": {
  "kernelspec": {
   "display_name": "Python 3",
   "language": "python",
   "name": "python3"
  },
  "language_info": {
   "codemirror_mode": {
    "name": "ipython",
    "version": 3
   },
   "file_extension": ".py",
   "mimetype": "text/x-python",
   "name": "python",
   "nbconvert_exporter": "python",
   "pygments_lexer": "ipython3",
   "version": "3.11.4"
  }
 },
 "nbformat": 4,
 "nbformat_minor": 2
}
